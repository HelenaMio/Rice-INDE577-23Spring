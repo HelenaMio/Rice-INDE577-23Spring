{
 "cells": [
  {
   "cell_type": "code",
   "execution_count": 5,
   "id": "a4db4d21",
   "metadata": {
    "scrolled": true
   },
   "outputs": [
    {
     "name": "stdout",
     "output_type": "stream",
     "text": [
      "Accuracy score: 0.939918533604888 \n",
      "\n",
      "Classification report:\n",
      "              precision    recall  f1-score   support\n",
      "\n",
      "           0       0.95      0.99      0.97       929\n",
      "           1       0.00      0.00      0.00        53\n",
      "\n",
      "    accuracy                           0.94       982\n",
      "   macro avg       0.47      0.50      0.48       982\n",
      "weighted avg       0.89      0.94      0.92       982\n",
      "\n",
      "Confusion matrix:\n",
      "[[923   6]\n",
      " [ 53   0]]\n",
      "Accuracy score when always predicting 0: 0.9460285132382892\n"
     ]
    }
   ],
   "source": [
    "import pandas as pd\n",
    "import numpy as np\n",
    "import matplotlib.pyplot as plt\n",
    "import seaborn as sns\n",
    "\n",
    "from sklearn.model_selection import train_test_split\n",
    "from xgboost import XGBClassifier\n",
    "from sklearn.metrics import accuracy_score, classification_report, confusion_matrix\n",
    "\n",
    "df = pd.read_csv('healthcare-dataset-stroke-data.csv')\n",
    "df_num = df[['age', 'hypertension', 'heart_disease', 'avg_glucose_level', 'bmi', 'stroke']].dropna()\n",
    "X, y = df_num[['age', 'hypertension', 'heart_disease', 'avg_glucose_level', 'bmi']], df_num['stroke']\n",
    "\n",
    "X_train, X_test, y_train, y_test = train_test_split(X, y, test_size=0.2, random_state=42)\n",
    "\n",
    "xgb = XGBClassifier(n_estimators=100, random_state=42, eval_metric='logloss')\n",
    "xgb.fit(X_train, y_train)\n",
    "\n",
    "# predict with the trained model\n",
    "y_pred = xgb.predict(X_test)\n",
    "print(f'Accuracy score: {accuracy_score(y_test, y_pred)} \\n')\n",
    "\n",
    "# classification report\n",
    "print(\"Classification report:\")\n",
    "print(classification_report(y_test, y_pred))\n",
    "\n",
    "# confusion matrix\n",
    "print(\"Confusion matrix:\")\n",
    "print(confusion_matrix(y_test, y_pred))\n",
    "\n",
    "# always predict 0\n",
    "y_zeros = np.zeros(y_test.shape)\n",
    "print(f'Accuracy score when always predicting 0: {accuracy_score(y_test, y_zeros)}')\n"
   ]
  },
  {
   "cell_type": "code",
   "execution_count": null,
   "id": "2ad3fff8",
   "metadata": {},
   "outputs": [],
   "source": []
  }
 ],
 "metadata": {
  "kernelspec": {
   "display_name": "Python 3 (ipykernel)",
   "language": "python",
   "name": "python3"
  },
  "language_info": {
   "codemirror_mode": {
    "name": "ipython",
    "version": 3
   },
   "file_extension": ".py",
   "mimetype": "text/x-python",
   "name": "python",
   "nbconvert_exporter": "python",
   "pygments_lexer": "ipython3",
   "version": "3.9.13"
  }
 },
 "nbformat": 4,
 "nbformat_minor": 5
}
