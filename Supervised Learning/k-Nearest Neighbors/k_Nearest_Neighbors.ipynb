{
 "cells": [
  {
   "cell_type": "markdown",
   "id": "6aa0eabc",
   "metadata": {},
   "source": [
    "# k-Nearest Neighbors\n",
    "### Author: Beixian Gu"
   ]
  },
  {
   "cell_type": "markdown",
   "id": "20516234",
   "metadata": {},
   "source": [
    "## Table of content\n",
    "- Introduction\n",
    "- Algorithm Description\n",
    "- Applications on Datasets"
   ]
  },
  {
   "cell_type": "markdown",
   "id": "6a321a83",
   "metadata": {},
   "source": [
    "## Introduction\n",
    "\n",
    "The K-Nearest Neighbors (K-NN) algorithm is a type of instance-based learning method used in machine learning. The K-NN algorithm is a type of lazy learning where the function is only approximated locally, and all computation is deferred until function evaluation. K-NN is often used for pattern recognition and, more specifically, for classification and regression.\n",
    "\n",
    "## Algorithm Descriotion\n",
    "\n",
    "In the K-NN algorithm, 'k' is a predetermined constant. The algorithm's functioning varies based on the type of task it's applied to:\n",
    "\n",
    "* Classification tasks: \n",
    "An unlabeled data point is assigned the label most prevalent among the 'k' nearest training samples to that query point.\n",
    "* Regression tasks: \n",
    "The prediction for an unlabeled data point is computed by averaging the values of the 'k' nearest training samples to that query point.\n",
    "\n",
    "The K-NN method utilizes the 'k' observations from the training set 'T', which are nearest in the input space to 'x', to form $\\hat{y}$. Formally, the k-nearest neighbor fit for $\\hat{y}$ is defined as:\n",
    "\n",
    "$$\\hat{y} = \\frac{1}{k} \\sum_{x_i \\in N_k(x)}{x_i}$$\n",
    "\n",
    "Here, $N_k(x)$ is the neighborhood of 'x', determined by the 'k' closest points $x_i$ in the training sample. The concept of 'closeness' implies a metric, typically the Euclidean distance in this context.\n",
    "\n",
    "In simpler terms, we identify the 'k' observations with $x_i$ nearest to 'x' in the input space and average their responses.\n",
    "\n",
    "For classification problems, labels are binary coded. Therefore, $\\hat{y}$ is the proportion of the '1' class, representing a majority vote within the neighborhood.\n",
    "For regression problems, labels are numeric, and $\\hat{y}$ is simply the average of the values within the neighborhood.\n",
    "Euclidean distance, the most commonly used metric to compute the distance between data points, is defined as:\n",
    "\n",
    "\n",
    "$$ d(\\boldsymbol{x}_i, \\boldsymbol{x}_j) = \\sqrt{\\sum_{k=1}^{p} {(\\boldsymbol{x}_{ik}-\\boldsymbol{x}_{jk})^2}}  $$\n",
    "\n",
    "where $\\boldsymbol{x}_i$, $\\boldsymbol{x}_j$ are two $1 \\times p$ data point vectors.\n",
    "\n",
    "It's important to note that the neighbors are sourced from a known dataset, effectively serving as the training data for the algorithm. However, no explicit training step is required, as the learning is instance-based."
   ]
  },
  {
   "cell_type": "markdown",
   "id": "41d59372",
   "metadata": {},
   "source": [
    "## Applications on Datasets\n",
    "\n",
    "* Classification: *Fish* data set\n",
    "* Regression: *house price* data set"
   ]
  },
  {
   "cell_type": "markdown",
   "id": "4d4c66c5",
   "metadata": {},
   "source": [
    "### Fish\n",
    "Load the data: This part reads the fish dataset from a CSV file into a pandas DataFrame.\n",
    "Prepare the data: This part separates the DataFrame into features (X) and target (y) variables, splits them into "
   ]
  },
  {
   "cell_type": "code",
   "execution_count": 8,
   "id": "f1783b5d",
   "metadata": {},
   "outputs": [
    {
     "name": "stdout",
     "output_type": "stream",
     "text": [
      "  Species  Weight  Length1  Length2  Length3   Height   Width\n",
      "0   Bream   242.0     23.2     25.4     30.0  11.5200  4.0200\n",
      "1   Bream   290.0     24.0     26.3     31.2  12.4800  4.3056\n",
      "2   Bream   340.0     23.9     26.5     31.1  12.3778  4.6961\n",
      "3   Bream   363.0     26.3     29.0     33.5  12.7300  4.4555\n",
      "4   Bream   430.0     26.5     29.0     34.0  12.4440  5.1340\n"
     ]
    }
   ],
   "source": [
    "import pandas as pd\n",
    "from sklearn.model_selection import train_test_split\n",
    "from sklearn.preprocessing import StandardScaler\n",
    "from sklearn.neighbors import KNeighborsClassifier\n",
    "from sklearn.metrics import classification_report, confusion_matrix\n",
    "\n",
    "# load the dataset\n",
    "df = pd.read_csv('fish.csv')\n",
    "\n",
    "# print the first few rows of the dataset to check if it loaded correctly\n",
    "print(df.head())\n"
   ]
  },
  {
   "cell_type": "markdown",
   "id": "6245feb0",
   "metadata": {},
   "source": [
    "Training and testing sets, and scales the features."
   ]
  },
  {
   "cell_type": "code",
   "execution_count": 9,
   "id": "d2fba109",
   "metadata": {},
   "outputs": [],
   "source": [
    "# define the feature matrix X and the target y\n",
    "X = df.drop('Species', axis=1)  # features (all columns except 'Species')\n",
    "y = df['Species']  # target (the 'Species' column)\n",
    "\n",
    "# split the data into training and test sets\n",
    "X_train, X_test, y_train, y_test = train_test_split(X, y, test_size=0.2, random_state=1)\n",
    "\n",
    "# scale the features\n",
    "scaler = StandardScaler()\n",
    "X_train = scaler.fit_transform(X_train)\n",
    "X_test = scaler.transform(X_test)\n"
   ]
  },
  {
   "cell_type": "markdown",
   "id": "e413237e",
   "metadata": {},
   "source": [
    "Train the classifier: This part creates a K-NN classifier, sets the number of neighbors to 3 (this value can be adjusted as needed), and trains it using the training data.\n",
    "Make predictions: This part uses the trained classifier to make predictions on the testing data."
   ]
  },
  {
   "cell_type": "code",
   "execution_count": 10,
   "id": "35c74f00",
   "metadata": {},
   "outputs": [],
   "source": [
    "# train the K-NN classifier\n",
    "knn = KNeighborsClassifier(n_neighbors=3)  # use 3 nearest neighbors\n",
    "knn.fit(X_train, y_train)\n",
    "\n",
    "# make predictions\n",
    "y_pred = knn.predict(X_test)\n"
   ]
  },
  {
   "cell_type": "markdown",
   "id": "9d58162f",
   "metadata": {},
   "source": [
    "Evaluate the model: This part prints a confusion matrix and a classification report, which provides several metrics that can be used to evaluate the classifier's performance.\n",
    "So, the entire code is intended for a classification task. If you want to use it for regression, you would need to make a few adjustments, such as using KNeighborsRegressor instead of KNeighborsClassifier and evaluating the model differently."
   ]
  },
  {
   "cell_type": "code",
   "execution_count": 11,
   "id": "86934429",
   "metadata": {},
   "outputs": [
    {
     "name": "stdout",
     "output_type": "stream",
     "text": [
      "[[ 7  0  0  0  0  0  0]\n",
      " [ 0  1  0  0  0  0  0]\n",
      " [ 0  0 12  0  1  1  0]\n",
      " [ 0  0  0  1  0  0  0]\n",
      " [ 1  0  4  0  1  0  0]\n",
      " [ 0  0  0  0  0  2  0]\n",
      " [ 0  0  1  0  0  0  0]]\n",
      "              precision    recall  f1-score   support\n",
      "\n",
      "       Bream       0.88      1.00      0.93         7\n",
      "      Parkki       1.00      1.00      1.00         1\n",
      "       Perch       0.71      0.86      0.77        14\n",
      "        Pike       1.00      1.00      1.00         1\n",
      "       Roach       0.50      0.17      0.25         6\n",
      "       Smelt       0.67      1.00      0.80         2\n",
      "   Whitefish       0.00      0.00      0.00         1\n",
      "\n",
      "    accuracy                           0.75        32\n",
      "   macro avg       0.68      0.72      0.68        32\n",
      "weighted avg       0.70      0.75      0.70        32\n",
      "\n",
      "              precision    recall  f1-score   support\n",
      "\n",
      "       Bream       0.88      1.00      0.93         7\n",
      "      Parkki       1.00      1.00      1.00         1\n",
      "       Perch       0.71      0.86      0.77        14\n",
      "        Pike       1.00      1.00      1.00         1\n",
      "       Roach       0.50      0.17      0.25         6\n",
      "       Smelt       0.67      1.00      0.80         2\n",
      "   Whitefish       0.00      0.00      0.00         1\n",
      "\n",
      "    accuracy                           0.75        32\n",
      "   macro avg       0.68      0.72      0.68        32\n",
      "weighted avg       0.70      0.75      0.70        32\n",
      "\n"
     ]
    },
    {
     "name": "stderr",
     "output_type": "stream",
     "text": [
      "/opt/anaconda3/lib/python3.9/site-packages/sklearn/metrics/_classification.py:1344: UndefinedMetricWarning: Precision and F-score are ill-defined and being set to 0.0 in labels with no predicted samples. Use `zero_division` parameter to control this behavior.\n",
      "  _warn_prf(average, modifier, msg_start, len(result))\n",
      "/opt/anaconda3/lib/python3.9/site-packages/sklearn/metrics/_classification.py:1344: UndefinedMetricWarning: Precision and F-score are ill-defined and being set to 0.0 in labels with no predicted samples. Use `zero_division` parameter to control this behavior.\n",
      "  _warn_prf(average, modifier, msg_start, len(result))\n",
      "/opt/anaconda3/lib/python3.9/site-packages/sklearn/metrics/_classification.py:1344: UndefinedMetricWarning: Precision and F-score are ill-defined and being set to 0.0 in labels with no predicted samples. Use `zero_division` parameter to control this behavior.\n",
      "  _warn_prf(average, modifier, msg_start, len(result))\n"
     ]
    }
   ],
   "source": [
    "# evaluate the model\n",
    "print(confusion_matrix(y_test, y_pred))\n",
    "print(classification_report(y_test, y_pred))\n",
    "print(classification_report(y_test, y_pred, zero_division=0))"
   ]
  },
  {
   "cell_type": "code",
   "execution_count": 28,
   "id": "04c841ba",
   "metadata": {},
   "outputs": [
    {
     "data": {
      "image/png": "[encoded data removed]",
      "text/plain": [
       "<Figure size 640x480 with 1 Axes>"
      ]
     },
     "metadata": {},
     "output_type": "display_data"
    }
   ],
   "source": [
    "import matplotlib.pyplot as plt\n",
    "\n",
    "# try different values of k\n",
    "k_values = range(1, 21)\n",
    "\n",
    "# record the accuracy scores for each k\n",
    "accuracy_scores = []\n",
    "for k in k_values:\n",
    "    knn = KNeighborsClassifier(n_neighbors=k)\n",
    "    knn.fit(X_train, y_train)\n",
    "    accuracy = knn.score(X_test, y_test)\n",
    "    accuracy_scores.append(accuracy)\n",
    "\n",
    "# plot the accuracy scores against k\n",
    "plt.plot(k_values, accuracy_scores, '-o')\n",
    "plt.xlabel('Number of Neighbors (k)')\n",
    "plt.ylabel('Accuracy Score')\n",
    "plt.title('K-NN Classification - Fish Dataset')\n",
    "plt.xticks(k_values)\n",
    "plt.show()\n"
   ]
  },
  {
   "cell_type": "markdown",
   "id": "04c7d4ce",
   "metadata": {},
   "source": [
    "### House price"
   ]
  },
  {
   "cell_type": "code",
   "execution_count": 23,
   "id": "1171fc1a",
   "metadata": {},
   "outputs": [
    {
     "name": "stdout",
     "output_type": "stream",
     "text": [
      "   beds  baths  size  lot_size  zip_code    price\n",
      "0     3    3.0  2850   4200.00     98119  1175000\n",
      "1     4    5.0  3040   5002.00     98106  1057500\n",
      "2     3    1.0  1290   6048.00     98125   799000\n",
      "3     3    2.0  2360      0.28     98188   565000\n",
      "4     3    3.5  1942   1603.00     98107  1187000\n"
     ]
    }
   ],
   "source": [
    "import pandas as pd\n",
    "import numpy as np\n",
    "from sklearn.model_selection import train_test_split\n",
    "from sklearn.preprocessing import StandardScaler\n",
    "from sklearn.neighbors import KNeighborsRegressor\n",
    "from sklearn.metrics import mean_squared_error\n",
    "\n",
    "# load the dataset\n",
    "df = pd.read_csv('house price.csv')\n",
    "\n",
    "# print the first few rows of the dataset to check if it loaded correctly\n",
    "print(df.head())\n"
   ]
  },
  {
   "cell_type": "code",
   "execution_count": 24,
   "id": "44040a36",
   "metadata": {},
   "outputs": [],
   "source": [
    "df = df.dropna()\n",
    "from sklearn.impute import SimpleImputer\n",
    "\n",
    "# use mean imputation\n",
    "imputer = SimpleImputer(strategy='mean')\n",
    "X_train = imputer.fit_transform(X_train)\n",
    "X_test = imputer.transform(X_test)\n",
    "\n",
    "# define the feature matrix X and the target y\n",
    "X = df.drop('price', axis=1)  # features (all columns except 'price')\n",
    "y = df['price']  # target (the 'price' column)\n",
    "\n",
    "# split the data into training and test sets\n",
    "X_train, X_test, y_train, y_test = train_test_split(X, y, test_size=0.2, random_state=1)\n",
    "\n",
    "# scale the features\n",
    "scaler = StandardScaler()\n",
    "X_train = scaler.fit_transform(X_train)\n",
    "X_test = scaler.transform(X_test)\n"
   ]
  },
  {
   "cell_type": "code",
   "execution_count": 25,
   "id": "efa97eb7",
   "metadata": {},
   "outputs": [],
   "source": [
    "# train the K-NN regressor\n",
    "knn = KNeighborsRegressor(n_neighbors=3)  # use 3 nearest neighbors\n",
    "knn.fit(X_train, y_train)\n",
    "\n",
    "# make predictions\n",
    "y_pred = knn.predict(X_test)\n"
   ]
  },
  {
   "cell_type": "code",
   "execution_count": 26,
   "id": "dead0167",
   "metadata": {},
   "outputs": [
    {
     "name": "stdout",
     "output_type": "stream",
     "text": [
      "Root Mean Squared Error: 378654.2082555647\n"
     ]
    }
   ],
   "source": [
    "# calculate the root mean squared error\n",
    "rmse = np.sqrt(mean_squared_error(y_test, y_pred))\n",
    "print('Root Mean Squared Error:', rmse)\n"
   ]
  },
  {
   "cell_type": "code",
   "execution_count": 27,
   "id": "8b05eda5",
   "metadata": {},
   "outputs": [
    {
     "data": {
      "image/png": "[encoded data removed]",
      "text/plain": [
       "<Figure size 640x480 with 1 Axes>"
      ]
     },
     "metadata": {},
     "output_type": "display_data"
    }
   ],
   "source": [
    "import matplotlib.pyplot as plt\n",
    "\n",
    "# create a scatter plot of predicted vs. actual prices\n",
    "plt.scatter(y_test, y_pred, alpha=0.5)\n",
    "plt.xlabel('Actual Price')\n",
    "plt.ylabel('Predicted Price')\n",
    "plt.title('K-NN Regression - Actual vs. Predicted Prices')\n",
    "plt.show()\n"
   ]
  }
 ],
 "metadata": {
  "kernelspec": {
   "display_name": "Python 3 (ipykernel)",
   "language": "python",
   "name": "python3"
  },
  "language_info": {
   "codemirror_mode": {
    "name": "ipython",
    "version": 3
   },
   "file_extension": ".py",
   "mimetype": "text/x-python",
   "name": "python",
   "nbconvert_exporter": "python",
   "pygments_lexer": "ipython3",
   "version": "3.9.13"
  }
 },
 "nbformat": 4,
 "nbformat_minor": 5
}
