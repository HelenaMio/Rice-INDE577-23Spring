{
 "cells": [
  {
   "cell_type": "markdown",
   "id": "93f57cea",
   "metadata": {},
   "source": [
    "# Support Vector Machines\n",
    "### Author: Beixian Gu"
   ]
  },
  {
   "cell_type": "markdown",
   "id": "3c07d56d",
   "metadata": {},
   "source": [
    "## Table of content\n",
    "- Introduction\n",
    "- Algorithm Description\n",
    "- Applications on Datasets"
   ]
  },
  {
   "cell_type": "markdown",
   "id": "ccf087b9",
   "metadata": {},
   "source": [
    "## Introduction\n",
    "Support Vector Machines (SVMs) are a type of supervised learning models with associated learning algorithms that analyze data and recognize patterns, used for classification and regression analysis. \n",
    "\n",
    "![SVM Image](https://ars.els-cdn.com/content/image/3-s2.0-B978032385214200001X-f06-02-9780323852142.jpg)\n",
    "\n",
    "\n",
    "Given a training dataset of instance-label pairs $(x_i, y_i), i = 1, ..., n$ where $x_i ∈ R^p$ and $y ∈ {1, -1}^n$, the support vector machines require the solution of the following optimization problem:\n",
    "$$\n",
    "Min\\{w, b, \\xi\\}   \\frac{1}{2} |w|^2 + C \\sum \\xi_i \n",
    "$$\n",
    "\n",
    "$$\n",
    "s.t. y_i(w x_i - b) ≥ 1 - \\xi_i\n",
    "$$\n",
    "$$\n",
    "\\xi_i ≥ 0\n",
    "$$\n",
    "Here,\n",
    "$w$ is the normal vector to the hyperplane\n",
    "$b$ is the bias or offset\n",
    "$ξ_i$ are the slack variables which allow for instances to be in the wrong side of the margin\n",
    "$C$ is the regularization parameter, the larger the $C$, the less the optimization tolerates instances to be in the wrong side.\n",
    "The decision function is given by:\n",
    "$$\n",
    "f(x) = w ⋅ x - b\n",
    "$$\n",
    "This will classify an instance $x$ based on the sign of the result. If it is positive, the predicted class $y$ is 1, if it is negative, the predicted class is -1.\n",
    "\n",
    "The vector $w$ is defined as $w = Σ α_i y_i x_i$ for $i = 1, ..., n$ where each $α_i ≥ 0$ are the solutions of the dual problem, which is easier to solve. The coefficients $α_i$ are nonzero only for the support vectors.\n",
    "\n",
    "Finally, when dealing with non-linearly separable problems, the original finite dimensional space is mapped into a much higher dimensional space, presumably making the separation easier in that space. To do this, we use the kernel trick to avoid the explicit mapping:\n",
    "$$\n",
    "K(x, z) = \\phi(x) ⋅ \\phi(z)\n",
    "$$\n",
    "A popular choice for the kernel is the Radial Basis Function (RBF):\n",
    "$$\n",
    "K(x, z) = exp(-\\gamma |x - z|^2) \\forall \\gamma >0\n",
    "$$\n",
    "\n",
    "An SVM model is a representation of the examples as points in space, mapped so that the examples of the separate categories are divided by a clear gap that is as wide as possible. New examples are then mapped into that same space and predicted to belong to a category based on the side of the gap on which they fall.\n",
    "\n",
    "## Algorithm Description\n",
    "\n",
    "The main idea of SVM is finding the hyperplane that best divides a dataset into two classes, as shown in the image above. Support vectors are the data points nearest to the hyperplane, the points of a dataset that, if removed, would alter the position of the dividing hyperplane. Because of this, they can be considered the critical elements of a dataset.\n",
    "\n",
    "### Steps\n",
    "\n",
    "The general steps to perform SVM are:\n",
    "\n",
    "1. **Collect and prepare the data:** This involves gathering the data and preparing it for use in the SVM model. This could include tasks like dealing with missing data and converting categorical data to numerical data.\n",
    "\n",
    "2. **Choose a kernel:** The choice of kernel is somewhat dependent on the problem at hand. Some common choices include linear, polynomial, and radial basis function (RBF).\n",
    "\n",
    "3. **Split the data:** Split the data into a training set and a testing set.\n",
    "\n",
    "4. **Train the model:** Use the training set to train the SVM model.\n",
    "\n",
    "5. **Test the model:** This will give you an idea of how well your model will perform on unseen data.\n",
    "\n",
    "6. **Tune the model:** This could involve things like choosing a different kernel or adjusting your parameters.\n",
    "\n",
    "\n",
    "\n"
   ]
  },
  {
   "cell_type": "markdown",
   "id": "de37ce15",
   "metadata": {},
   "source": [
    "## Application on House price dataset"
   ]
  },
  {
   "cell_type": "code",
   "execution_count": 12,
   "id": "7c44cb40",
   "metadata": {},
   "outputs": [
    {
     "name": "stdout",
     "output_type": "stream",
     "text": [
      "[778975.53970715 856753.79674652 842087.30234475 849165.17375976\n",
      " 781252.03705407 861472.20773128 816457.14809586 824652.94239902\n",
      " 841278.95468239 780861.53411093 857207.84189692 750895.74221918\n",
      " 812068.94319435 830885.92237665 768521.70117983 752808.50857931\n",
      " 841086.17453263 870617.53127072 876959.06383304 830525.49050508\n",
      " 793037.28249456 743376.2654244  783438.66470082 983173.00444271\n",
      " 744990.83432449 831248.12489723 830519.38164793 789629.4549429\n",
      " 860142.95047407 844289.78276752 860871.22552656 885995.30465173\n",
      " 836655.93775333 843886.54818301 759875.548699   914436.84911778\n",
      " 797474.22006063 866903.00078126 814685.09272555 844955.67747332\n",
      " 750428.09816997 828039.25523107 748510.23672429 763456.99119474\n",
      " 968717.73338726 745861.92557255 768886.64059069 891047.82664412\n",
      " 876735.51914265 868193.85572473 765814.3826422  750273.35505251\n",
      " 793766.05162771 766675.77202032 862870.71891244 851931.11792963\n",
      " 823088.43019244 799553.05735525 807765.59787776 937765.01821468\n",
      " 813915.65378222 768402.59394396 837189.06227911 812863.64300269\n",
      " 810212.04284084 806073.67925078 857564.06140694 757559.4435278\n",
      " 850025.51187132 852506.81347888 869594.06782639 816124.46106945\n",
      " 824439.3005129  755058.65868998 790907.76825847 849553.16513848\n",
      " 835329.71586868 804832.91531599 777651.92806075 837297.12391715\n",
      " 796754.93048429 851728.86680177 868202.39776531 809191.59981762\n",
      " 789026.45166672 831375.68447875 883803.45954377 796515.98054782\n",
      " 940827.2101577  822784.53443938 880084.0671923  793894.38188256\n",
      " 751260.3896249  855834.67263199 751223.70721501 870509.85731379\n",
      " 813987.59144979 816533.47712813 936000.03233041 891728.65728075\n",
      " 929526.81698141]\n"
     ]
    }
   ],
   "source": [
    "import pandas as pd\n",
    "import matplotlib.pyplot as plt\n",
    "from sklearn import svm\n",
    "from sklearn.model_selection import train_test_split\n",
    "from sklearn.preprocessing import StandardScaler\n",
    "from sklearn.impute import SimpleImputer\n",
    "\n",
    "# Loading the dataset\n",
    "data = pd.read_csv('house price.csv')\n",
    "\n",
    "# Handling missing values\n",
    "imputer = SimpleImputer(strategy='mean')\n",
    "data_imputed = imputer.fit_transform(data)\n",
    "data = pd.DataFrame(data_imputed, columns=data.columns)\n",
    "\n",
    "# Defining features and target\n",
    "X = data[['beds', 'baths', 'size', 'lot_size', 'zip_code']]\n",
    "y = data['price']\n",
    "\n",
    "# Splitting the data\n",
    "X_train, X_test, y_train, y_test = train_test_split(X, y, test_size=0.2, random_state=42)\n",
    "\n",
    "# Scaling the features\n",
    "scaler = StandardScaler()\n",
    "X_train_scaled = scaler.fit_transform(X_train)\n",
    "X_test_scaled = scaler.transform(X_test)\n",
    "\n",
    "# Generating the classifier\n",
    "clf = svm.SVR(kernel='linear', C=100)\n",
    "\n",
    "# Training the classifier\n",
    "clf.fit(X_train_scaled, y_train)\n",
    "\n",
    "# Predicting the output\n",
    "y_pred = clf.predict(X_test_scaled)\n",
    "print(y_pred)\n"
   ]
  },
  {
   "cell_type": "markdown",
   "id": "c7a54d45",
   "metadata": {},
   "source": [
    "Red squares indicate that if the predicting data is greater than actual data."
   ]
  },
  {
   "cell_type": "code",
   "execution_count": 14,
   "id": "72f90e3c",
   "metadata": {},
   "outputs": [
    {
     "data": {
      "image/png": "[encoded data removed]",
      "text/plain": [
       "<Figure size 640x480 with 1 Axes>"
      ]
     },
     "metadata": {},
     "output_type": "display_data"
    }
   ],
   "source": [
    "colors = ['red' if pred > actual else 'blue' for pred, actual in zip(y_pred, y_test)]\n",
    "plt.scatter(y_test, y_pred, marker='s', c=colors)\n",
    "plt.xlabel('Actual Prices')\n",
    "plt.ylabel('Predicted Prices')\n",
    "plt.title('Actual vs Predicted House Prices')\n",
    "plt.grid(True)\n",
    "plt.show()\n"
   ]
  },
  {
   "cell_type": "code",
   "execution_count": 16,
   "id": "24951a0c",
   "metadata": {},
   "outputs": [
    {
     "data": {
      "image/png": "[encoded data removed]",
      "text/plain": [
       "<Figure size 1000x300 with 10 Axes>"
      ]
     },
     "metadata": {},
     "output_type": "display_data"
    }
   ],
   "source": [
    "import matplotlib.pyplot as plt\n",
    "from sklearn import datasets, svm, metrics\n",
    "\n",
    "# Loading the dataset\n",
    "digits = datasets.load_digits()\n",
    "\n",
    "# Generating the classifier\n",
    "clf = svm.SVC(gamma=0.001, C=100)\n",
    "\n",
    "# Training the classifier\n",
    "X, y = digits.data[:-10], digits.target[:-10]\n",
    "clf.fit(X, y)\n",
    "\n",
    "# Predicting the output\n",
    "y_pred = clf.predict(digits.data[-10:])\n",
    "\n",
    "# Displaying the actual digits and predicted values\n",
    "fig, axes = plt.subplots(nrows=1, ncols=10, figsize=(10, 3))\n",
    "for ax, image, prediction in zip(axes, digits.images[-10:], y_pred):\n",
    "    ax.set_axis_off()\n",
    "    image = image.reshape(8, 8)\n",
    "    ax.imshow(image, cmap=plt.cm.gray_r, interpolation='nearest')\n",
    "    ax.set_title(f'Prediction: {prediction}')\n",
    "\n",
    "plt.show()\n"
   ]
  },
  {
   "cell_type": "code",
   "execution_count": null,
   "id": "d5ce80cb",
   "metadata": {},
   "outputs": [],
   "source": []
  }
 ],
 "metadata": {
  "kernelspec": {
   "display_name": "Python 3 (ipykernel)",
   "language": "python",
   "name": "python3"
  },
  "language_info": {
   "codemirror_mode": {
    "name": "ipython",
    "version": 3
   },
   "file_extension": ".py",
   "mimetype": "text/x-python",
   "name": "python",
   "nbconvert_exporter": "python",
   "pygments_lexer": "ipython3",
   "version": "3.9.13"
  }
 },
 "nbformat": 4,
 "nbformat_minor": 5
}
